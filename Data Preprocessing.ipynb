{
 "cells": [
  {
   "cell_type": "code",
   "execution_count": null,
   "metadata": {},
   "outputs": [],
   "source": [
    "#Check the README for setup"
   ]
  },
  {
   "cell_type": "code",
   "execution_count": 15,
   "metadata": {},
   "outputs": [],
   "source": [
    "#Importing Libraries\n",
    "\n",
    "import opendatasets as od\n",
    "import pandas as pd\n",
    "import sklearn as sci\n",
    "import skimage as ski\n",
    "from skimage.color import rgb2gray\n",
    "import numpy as np\n",
    "import os\n",
    "import cv2\n",
    "import PIL\n",
    "from PIL import Image\n",
    "from numpy import asarray\n",
    "import glob\n",
    "import cv2\n",
    "import matplotlib.pyplot as plt"
   ]
  },
  {
   "cell_type": "code",
   "execution_count": null,
   "metadata": {},
   "outputs": [],
   "source": [
    "#Creating arrays for AI Images\n",
    "\n",
    "for i in range(2000):\n",
    "  try:\n",
    "    img = Image.open(f'[FILE LOCATION FOR THE DATASET]/ai_art_classification/train/AI_GENERATED/{i}.jpg')\n",
    "    np_img = np.array(img)\n",
    "    np.save(f'[Wherever you want to save it]/AAAA{i}.npy' , np_img)\n",
    "  except:\n",
    "    print(f'File {i}.jpg not found, skipping.')\n",
    "\n",
    "  print({i})"
   ]
  },
  {
   "cell_type": "code",
   "execution_count": null,
   "metadata": {},
   "outputs": [],
   "source": [
    "#Creating arrays for NON AI Images\n",
    "\n",
    "for i in range(2000):\n",
    "  try:\n",
    "    img = Image.open(f'[FILE LOCATION FOR THE DATASET]/ai_art_classification/train/NON_AI_GENERATED/{i}.jpg')\n",
    "    np_img = np.array(img)\n",
    "    np.save(f'[Save this to the same place you saved the other arrays]/BBBB{i}.npy', np_img)\n",
    "  except:\n",
    "    print(f'File {i}.jpg not found, skipping.')\n",
    "\n",
    "  print({i})"
   ]
  },
  {
   "cell_type": "code",
   "execution_count": null,
   "metadata": {},
   "outputs": [],
   "source": [
    "#Combining image arrays\n",
    "\n",
    "file_path = '[Wherever you saved the arrays]/*.npy'\n",
    "array_list = [np.load(file) for file in sorted(glob.glob(file_path))]\n",
    "combined_array = np.stack(array_list, axis=0)\n",
    "\n",
    "combined_array.shape"
   ]
  },
  {
   "cell_type": "code",
   "execution_count": null,
   "metadata": {},
   "outputs": [],
   "source": [
    "#Taking each image in the combined array, putting it into grayscale, and normalizing it\n",
    "\n",
    "gray_data = np.array([cv2.cvtColor(i, cv2.COLOR_BGR2GRAY) for i in combined_array])\n",
    "gray_data.shape\n",
    "\n",
    "def normalize_one_image(image):\n",
    " nom_img = image - (np.min(0)) / (np.max(1) - np.min(0))\n",
    " return nom_img\n",
    "\n",
    "for i in range(len(gray_data)):\n",
    "  gray_data[i] = normalize_one_image(gray_data[i])\n",
    "  np.save(f'[Wherever you want to save these]/{i}nom.npy', gray_data[i])\n",
    "  print(i)\n",
    "  print(gray_data[i].shape)"
   ]
  },
  {
   "cell_type": "code",
   "execution_count": null,
   "metadata": {},
   "outputs": [],
   "source": [
    "#Combining the now gray and normalized images into one array\n",
    "\n",
    "file_path2 = '[Wherever you saved the normalized arrays]/*nom.npy'\n",
    "array_list2 = [np.load(file) for file in glob.glob(file_path2)]\n",
    "combined_array_nom = np.stack(array_list2, axis=0)\n",
    "np.save('[Wherever you want to save the final dataset]/combined_array_nom.npy', combined_array_nom)\n",
    "\n",
    "combined_array_nom.shape"
   ]
  },
  {
   "cell_type": "code",
   "execution_count": null,
   "metadata": {},
   "outputs": [],
   "source": [
    "#Creating a label array\n",
    "\n",
    "zeros_array = np.zeros(1084)\n",
    "ones_array = np.ones(916)\n",
    "Labels = np.concatenate((zeros_array, ones_array))\n",
    "np.save('[Wherever you want to save the labels]/Labels.npy', Labels)\n",
    "\n",
    "print(Labels.shape)"
   ]
  }
 ],
 "metadata": {
  "kernelspec": {
   "display_name": "Python 3",
   "language": "python",
   "name": "python3"
  },
  "language_info": {
   "codemirror_mode": {
    "name": "ipython",
    "version": 3
   },
   "file_extension": ".py",
   "mimetype": "text/x-python",
   "name": "python",
   "nbconvert_exporter": "python",
   "pygments_lexer": "ipython3",
   "version": "3.10.10"
  }
 },
 "nbformat": 4,
 "nbformat_minor": 2
}
